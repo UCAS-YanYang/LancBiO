{
 "cells": [
  {
   "cell_type": "code",
   "execution_count": 2,
   "metadata": {},
   "outputs": [],
   "source": [
    "import torch"
   ]
  },
  {
   "cell_type": "code",
   "execution_count": 3,
   "metadata": {},
   "outputs": [],
   "source": [
    "def f_reg(loss,params):\n",
    "    grad = torch.autograd.grad(loss, params, create_graph=True)[0]\n",
    "    return grad"
   ]
  },
  {
   "cell_type": "code",
   "execution_count": 5,
   "metadata": {},
   "outputs": [],
   "source": [
    "# 定义一个简单的模型参数和损失函数来检查f_reg函数\n",
    "params = torch.tensor([1.0, 2.0, 3.0], requires_grad=True)  # 定义参数，需要计算梯度\n",
    "x = torch.tensor([4.0, 5.0, 6.0])  # 定义输入数据\n",
    "target = torch.tensor([0.0])  # 定义目标值\n",
    "\n",
    "# 定义一个简单的线性关系作为损失函数\n",
    "loss = (params * x).sum() - target.sum()\n"
   ]
  },
  {
   "cell_type": "code",
   "execution_count": 6,
   "metadata": {},
   "outputs": [
    {
     "data": {
      "text/plain": [
       "tensor([4., 5., 6.])"
      ]
     },
     "execution_count": 6,
     "metadata": {},
     "output_type": "execute_result"
    }
   ],
   "source": [
    "grad = f_reg(loss, params)\n",
    "\n",
    "grad"
   ]
  }
 ],
 "metadata": {
  "kernelspec": {
   "display_name": "test_torch",
   "language": "python",
   "name": "python3"
  },
  "language_info": {
   "codemirror_mode": {
    "name": "ipython",
    "version": 3
   },
   "file_extension": ".py",
   "mimetype": "text/x-python",
   "name": "python",
   "nbconvert_exporter": "python",
   "pygments_lexer": "ipython3",
   "version": "3.8.0"
  }
 },
 "nbformat": 4,
 "nbformat_minor": 2
}
